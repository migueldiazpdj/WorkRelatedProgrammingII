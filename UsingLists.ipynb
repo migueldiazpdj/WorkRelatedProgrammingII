{
  "cells": [
    {
      "cell_type": "markdown",
      "metadata": {
        "id": "AvYW-sBdkqES"
      },
      "source": [
        "# Exercises using lists"
      ]
    },
    {
      "cell_type": "markdown",
      "source": [
        "**NOTE: Use the commands that we have seen in class up to now.**"
      ],
      "metadata": {
        "id": "8qUP5QXOvoTX"
      }
    },
    {
      "cell_type": "markdown",
      "metadata": {
        "id": "o_AQkmWlM6dn"
      },
      "source": [
        "1. Write with a sentence if that: given a certain number, it prints its absolute value\n",
        "\n"
      ]
    },
    {
      "cell_type": "code",
      "source": [
        "number = -99\n",
        "if number < 0:\n",
        "  x = number*(-1)\n",
        "  print(x)\n",
        "else:\n",
        "    print(number)\n",
        "# Tambien se puede usar la funcion abs:\n",
        "print(abs(number))"
      ],
      "metadata": {
        "colab": {
          "base_uri": "https://localhost:8080/"
        },
        "id": "agy-1ZYDPJ-6",
        "outputId": "9ca990a5-5f08-478e-e9ce-92a9f5f2c2f6"
      },
      "execution_count": null,
      "outputs": [
        {
          "output_type": "stream",
          "name": "stdout",
          "text": [
            "99\n",
            "99\n"
          ]
        }
      ]
    },
    {
      "cell_type": "markdown",
      "metadata": {
        "id": "zmtdKM3_M6do"
      },
      "source": [
        "2. Create a list of 5 different numbers and use a for-in loop to print the absolute value of each element in the list."
      ]
    },
    {
      "cell_type": "code",
      "source": [
        "numbers = [-33, -54, 11, -1009867]\n",
        "for n in numbers:\n",
        "    print(abs(n))"
      ],
      "metadata": {
        "colab": {
          "base_uri": "https://localhost:8080/"
        },
        "id": "UuOm5V7-P09L",
        "outputId": "c5c8c3e2-b6d3-4c57-a348-1ef6766f0068"
      },
      "execution_count": null,
      "outputs": [
        {
          "output_type": "stream",
          "name": "stdout",
          "text": [
            "33\n",
            "54\n",
            "11\n",
            "1009867\n"
          ]
        }
      ]
    },
    {
      "cell_type": "markdown",
      "metadata": {
        "id": "_-NiXfmSM6do"
      },
      "source": [
        "3. Write a program, that given three different numbers a, b, and c, and prints which is the maximum and the minimum."
      ]
    },
    {
      "cell_type": "code",
      "source": [
        "a = 5\n",
        "b = 32\n",
        "c = 31\n",
        "print(min([a, b, c]))\n",
        "print(max([a, b, c]))"
      ],
      "metadata": {
        "colab": {
          "base_uri": "https://localhost:8080/"
        },
        "id": "H5waeZLjRAh2",
        "outputId": "14a66942-750a-4c50-eb37-4587bda074a2"
      },
      "execution_count": null,
      "outputs": [
        {
          "output_type": "stream",
          "name": "stdout",
          "text": [
            "5\n",
            "32\n"
          ]
        }
      ]
    },
    {
      "cell_type": "markdown",
      "metadata": {
        "id": "7sEapI0iM6dq"
      },
      "source": [
        "4. Write a program in python that, given two integer numbers, print one of these messages: \"The second is the square of the first number\", \"The second is minor than the square of the first number\", \"The second is greater than the square of the first number\". The different messages have to printed if that condition is true."
      ]
    },
    {
      "cell_type": "code",
      "source": [
        "integer_1 = 5\n",
        "integer_2 = 25\n",
        "\n",
        "if integer_2 == integer_1**2 :\n",
        "  print(\"The second is the square of the first number\")\n",
        "elif integer_2 > integer_1**2 :\n",
        "  print(\"The second is minor than the square of the first number\")\n",
        "else:\n",
        "  print(\"The second is greater than the square of the first number\")"
      ],
      "metadata": {
        "colab": {
          "base_uri": "https://localhost:8080/"
        },
        "id": "K2ysn5oMSKxf",
        "outputId": "13951f14-8225-47bb-cab4-704c30953688"
      },
      "execution_count": null,
      "outputs": [
        {
          "output_type": "stream",
          "name": "stdout",
          "text": [
            "The second is the square of the first number\n"
          ]
        }
      ]
    },
    {
      "cell_type": "markdown",
      "source": [
        "5. Write a program in Python that, given 5 different names in lower case letters, print each name in title and the classroom in which is going to do the exam according to:\n",
        "\n",
        "- Surnames from  A to F -> Classroom 1\n",
        "- Surnames from  G to M -> Classroom 2\n",
        "- Surnames from  N to Z -> Classroom 3\n"
      ],
      "metadata": {
        "id": "uBpQQHg2o5fH"
      }
    },
    {
      "cell_type": "code",
      "source": [
        "names = [\"Otero\", \"Pedrayo\", \"Diaz\", \"Lobato\", \"Molinelli\"]\n",
        "\n",
        "for n in names:\n",
        "    lower = n.lower()\n",
        "\n",
        "    if 'a' <= lower[0] <= 'f':\n",
        "        clas = 1\n",
        "        print(\"Your exam is in class 1\")\n",
        "    elif 'g' <= lower[0] <= 'm':\n",
        "        clas = 2\n",
        "        print(\"Your exam is in class 2\")\n",
        "    else:\n",
        "        clas = 3\n",
        "        print(\"Your exam is in class 3\")"
      ],
      "metadata": {
        "id": "tRUITvilVno7",
        "colab": {
          "base_uri": "https://localhost:8080/"
        },
        "outputId": "9e3f5d20-0619-45b1-e671-6b6da36d8c75"
      },
      "execution_count": 1,
      "outputs": [
        {
          "output_type": "stream",
          "name": "stdout",
          "text": [
            "Your exam is in class 3\n",
            "Your exam is in class 3\n",
            "Your exam is in class 1\n",
            "Your exam is in class 2\n",
            "Your exam is in class 2\n"
          ]
        }
      ]
    },
    {
      "cell_type": "markdown",
      "source": [
        "6. Write a program that that detects if there are vowels inside a string. You can consider vowels without accent marks."
      ],
      "metadata": {
        "id": "cq0hgrjnqH3x"
      }
    },
    {
      "cell_type": "code",
      "source": [
        "vowels = [\"a\", \"e\", \"i\", \"o\", \"u\"]\n",
        "words = \"La Torre de Hércules es una torre y faro situado sobre una colina en la península de la ciudad de La Coruña, en Galicia.\"\n",
        "for w in words.lower():\n",
        "  if w in vowels:\n",
        "    print(\"It has vowels\")\n",
        "    break # Acaba al encontrarse con una vocal, si no lo pongo me iinforma una a una de si es o no vocal.\n",
        "  else:\n",
        "      continue"
      ],
      "metadata": {
        "id": "74ig0VZjUiCU",
        "colab": {
          "base_uri": "https://localhost:8080/"
        },
        "outputId": "ed488488-c9ca-4bb1-9302-d17da6a2336f"
      },
      "execution_count": 8,
      "outputs": [
        {
          "output_type": "stream",
          "name": "stdout",
          "text": [
            "It has vowels\n"
          ]
        }
      ]
    },
    {
      "cell_type": "markdown",
      "source": [
        "7. Write a program that allows to determine if a string is palindrome (a word or sentence that reads the same backward or forward). For example, 'never odd or even' or 'was it a car or a cat I saw' are palindrome strings."
      ],
      "metadata": {
        "id": "woN0n1tgoc-Q"
      }
    },
    {
      "cell_type": "code",
      "source": [
        "string = 'Arriba la birra'\n",
        "string = string.upper()\n",
        "string = string.replace(\" \", \"\")\n",
        "print(string)\n",
        "\n",
        "if string == string[::-1] :\n",
        "    print(\"Is a palindrome.\")\n",
        "else:\n",
        "    print(\"Is not a palindrome.\")"
      ],
      "metadata": {
        "colab": {
          "base_uri": "https://localhost:8080/"
        },
        "id": "m2YEJuT1nekJ",
        "outputId": "f51dc45f-746d-4120-aaf2-1a348f1298c2"
      },
      "execution_count": 25,
      "outputs": [
        {
          "output_type": "stream",
          "name": "stdout",
          "text": [
            "ARRIBALABIRRA\n",
            "Is a palindrome.\n"
          ]
        }
      ]
    },
    {
      "cell_type": "markdown",
      "source": [
        "8. A capital of C euros at an interest of x percent per year for n years becomes C · (1 + x/100)^n euros. Design a Python program that, given a quantity C and the interest x, calculates the final capital only if x is a positive quantity."
      ],
      "metadata": {
        "id": "m3RVPnhPp2dP"
      }
    },
    {
      "cell_type": "code",
      "source": [
        "C = 100\n",
        "x = 0.06\n",
        "n = 5\n",
        "if x >= 0:\n",
        "  final_cap = C * (1 + x/100)**n\n",
        "  print(final_cap)\n",
        "else:\n",
        "  print(\"Interest rate should be non-negative !\")"
      ],
      "metadata": {
        "colab": {
          "base_uri": "https://localhost:8080/"
        },
        "id": "AvZU1uyRsj-_",
        "outputId": "6a2315a0-5515-42b9-c56e-b78b37de2daf"
      },
      "execution_count": 31,
      "outputs": [
        {
          "output_type": "stream",
          "name": "stdout",
          "text": [
            "100.30036021606476\n"
          ]
        }
      ]
    },
    {
      "cell_type": "markdown",
      "source": [
        "9. A courier company invoices its customers based on volume and weight according to the following rules:\n",
        "\n",
        "  1. Regarding volume (v):\n",
        "      - If v is less than or equal to 5 m3 -> €3;\n",
        "      - If v is between 5 and 10 m3 -> €5;\n",
        "      - If v is greater than 10 m3 -> €0.5 per m3.\n",
        "  2. Regarding weight (pw\n",
        "      - If w is less than or equal to 2 kg -> €1.7 per kg;\n",
        "      - If w is greater than 2 kg -> €1.9 per kg.\n",
        "\n",
        " In any case, the company always chooses the billing option that produces the highest possible price. Write a program that using as input four variables of  package data (length, width, height, and weight) calculates the amount the customer must pay and print it. Consider a case in which the variables are not well written; for this case the program should print that there is an error, specifying in which one is the error.\n",
        "\n",
        " Example:\n",
        "~~~\n",
        "length (in meters): 2  \n",
        "width(in meters): 2   \n",
        "heigth(in meters): 2  \n",
        "weight (in kgs): 2\n",
        "The price of sending the package is 5€\n",
        "~~~\n"
      ],
      "metadata": {
        "id": "vC-0wcVRqlyb"
      }
    },
    {
      "cell_type": "code",
      "source": [
        "length = 2\n",
        "width = 2\n",
        "height = 2\n",
        "lista = [length, width, height, weight]\n",
        "\n",
        "for l in lista:\n",
        "  if l < 0 :\n",
        "    print(\"Error\")\n",
        "else:\n",
        "    p = length * width * height\n",
        "\n",
        "if volume <= 5:\n",
        "  volume_price = 3\n",
        "elif 5 < volume <= 10:\n",
        "  volume_price = 5\n",
        "else:\n",
        "  volume_price = 0.5 * volume\n",
        "\n",
        "weight = 2\n",
        "if weight <= 2:\n",
        "  weight_price = 1.7\n",
        "else:\n",
        "  weight_price = 1.9 * weight\n",
        "\n",
        "final_price = max(volume_price, weight_price)\n",
        "\n",
        "print(final_price)"
      ],
      "metadata": {
        "colab": {
          "base_uri": "https://localhost:8080/"
        },
        "id": "RC23XqTSuYgu",
        "outputId": "2f1ac1d7-edef-41b8-eeba-9646404790e4"
      },
      "execution_count": 50,
      "outputs": [
        {
          "output_type": "stream",
          "name": "stdout",
          "text": [
            "5\n"
          ]
        }
      ]
    },
    {
      "cell_type": "markdown",
      "source": [
        "10. Write a program in Python that given a numeric list, that counts all the occurrences of the different values in the list with their indices.\n",
        "Example:\n",
        "~~~\n",
        "num_list=[1,2,5,9,2,1,5,9]  \n",
        "The occurrences of value 1 in the list is: 2\n",
        "The indices of value 1 in the list are: 0,5\n",
        "The occurrences of value 2 in the list is: 2\n",
        "The indices of value 2 in the list are: 1,4\n",
        "The occurrences of value 5 in the list is: 2\n",
        "The indices of value 5 in the list are: 2,6\n",
        "The occurrences of value 9 in the list is: 2\n",
        "The indices of value 9 in the list are: 3,7\n",
        "~~~\n"
      ],
      "metadata": {
        "id": "rfbEy2GYtzWU"
      }
    },
    {
      "cell_type": "code",
      "source": [
        "num_list = [1123, 2456346, 6, 6, 2, 6, 5, 2456346]\n",
        "numbers = set(num_list) # Separo\n",
        "\n",
        "for num in numbers:\n",
        "    total = num_list.count(num)\n",
        "    print(f\"Occurrences of value {num} in the list is {total}\")\n",
        "\n",
        "print(num_list.index(1123)) # esto solo me da el indice en la posicion mas baja\n",
        "print(num_list.index(6))\n",
        "print(num_list.index(2))\n",
        "print(num_list.index(5))\n",
        "print(num_list.index(2456346))"
      ],
      "metadata": {
        "colab": {
          "base_uri": "https://localhost:8080/"
        },
        "id": "aPsmrA3Myc7n",
        "outputId": "4d56dd4d-55dd-43c4-f55a-1e66a8e5d491"
      },
      "execution_count": 60,
      "outputs": [
        {
          "output_type": "stream",
          "name": "stdout",
          "text": [
            "Occurrences of value 2 in the list is 1\n",
            "Occurrences of value 1123 in the list is 1\n",
            "Occurrences of value 5 in the list is 1\n",
            "Occurrences of value 6 in the list is 3\n",
            "Occurrences of value 2456346 in the list is 2\n",
            "0\n",
            "2\n",
            "4\n",
            "6\n",
            "1\n"
          ]
        }
      ]
    }
  ],
  "metadata": {
    "kernelspec": {
      "display_name": "Python 3",
      "language": "python",
      "name": "python3"
    },
    "language_info": {
      "codemirror_mode": {
        "name": "ipython",
        "version": 3
      },
      "file_extension": ".py",
      "mimetype": "text/x-python",
      "name": "python",
      "nbconvert_exporter": "python",
      "pygments_lexer": "ipython3",
      "version": "3.6.5"
    },
    "colab": {
      "provenance": []
    }
  },
  "nbformat": 4,
  "nbformat_minor": 0
}