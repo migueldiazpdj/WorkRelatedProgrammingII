{
  "cells": [
    {
      "cell_type": "markdown",
      "metadata": {
        "id": "AvYW-sBdkqES"
      },
      "source": [
        "# Exercises"
      ]
    },
    {
      "cell_type": "markdown",
      "metadata": {
        "id": "o6961rBbkqES"
      },
      "source": [
        "1. Create a variable and store a message in it. Print the variable. Rewrite the variable with another message and print it again."
      ]
    },
    {
      "cell_type": "code",
      "source": [
        "receipt_pulpo = '''Cómo preparar pulpo a la gallega. Es un buen comienzo para esta nueva receta de pulpo, quien no haya probado el pulpo a la gallega está perdiéndose unos de los platos más representativos nuestra gastronomía.\n",
        "Cualquiera que visite Galicia no debe dejar de desgustarlo, en cualquier taberna, restaurante o en uno de los puestos de pulpeiras distribuidas estratégicamente por toda la provincia.'''\n",
        "print(receta_pulpo)\n",
        "\n",
        "receipt_pulpo = '''Podéis encontrar pulpo á feira en cualquier fiesta o feira, pues se van turnando de domingo en domingo durante todo el año. Una de las mejores es la de Luintra donde las pulpeiras suben con su caldeiro de cobre y un buen par de tijeras.\n",
        "Lo único que tienes que hacer es pedir todas las raciones que quieras.'''\n",
        "print(receta_pulpo)"
      ],
      "metadata": {
        "colab": {
          "base_uri": "https://localhost:8080/"
        },
        "id": "zaBAvwnJK2b5",
        "outputId": "85848328-c979-4333-91f8-c0f19ae8f18f"
      },
      "execution_count": null,
      "outputs": [
        {
          "output_type": "stream",
          "name": "stdout",
          "text": [
            "Cómo preparar pulpo a la gallega. Es un buen comienzo para esta nueva receta de pulpo, quien no haya probado el pulpo a la gallega está perdiéndose unos de los platos más representativos nuestra gastronomía.\n",
            "\n",
            "Cualquiera que visite Galicia no debe dejar de desgustarlo, en cualquier taberna, restaurante o en uno de los puestos de pulpeiras distribuidas estratégicamente por toda la provincia.\n",
            "Podéis encontrar pulpo á feira en cualquier fiesta o feira, pues se van turnando de domingo en domingo durante todo el año. Una de las mejores es la de Luintra donde las pulpeiras suben con su caldeiro de cobre y un buen par de tijeras.\n",
            "Lo único que tienes que hacer es pedir todas las raciones que quieras.\n"
          ]
        }
      ]
    },
    {
      "cell_type": "markdown",
      "metadata": {
        "id": "Rrfdp-BEkqET"
      },
      "source": [
        "2. Save your name in a variable. Using that variable, print your name in lower and upper case letters."
      ]
    },
    {
      "cell_type": "code",
      "source": [
        "name = \"Miguel\"\n",
        "print(name.upper())\n",
        "print(name.lower())"
      ],
      "metadata": {
        "colab": {
          "base_uri": "https://localhost:8080/"
        },
        "id": "DbpmxyMRLwrY",
        "outputId": "bdad711e-218e-4a08-aab0-e8ab55e3bdb2"
      },
      "execution_count": null,
      "outputs": [
        {
          "output_type": "stream",
          "name": "stdout",
          "text": [
            "MIGUEL\n",
            "miguel\n"
          ]
        }
      ]
    },
    {
      "cell_type": "markdown",
      "metadata": {
        "id": "qlI0MQdXkqET"
      },
      "source": [
        "3. Save your name and surnames in different variables and concatenate them to print your whole name."
      ]
    },
    {
      "cell_type": "code",
      "source": [
        "name = \"Miguel\"\n",
        "surnames = \" Díaz Pérez de Juan\"\n",
        "complete = name + surnames\n",
        "print(complete)"
      ],
      "metadata": {
        "colab": {
          "base_uri": "https://localhost:8080/"
        },
        "id": "7G5PqqkUMWix",
        "outputId": "e7322d49-0f87-4472-99c6-16e27e0bb535"
      },
      "execution_count": null,
      "outputs": [
        {
          "output_type": "stream",
          "name": "stdout",
          "text": [
            "Miguel Díaz Pérez de Juan\n"
          ]
        }
      ]
    },
    {
      "cell_type": "markdown",
      "metadata": {
        "id": "XwddAqfekqEU"
      },
      "source": [
        "4. Save your name in a variable with blank spaces at both ends. Print it. Remove blank spaces on the left, on the right side and on both sides. Print all the messages."
      ]
    },
    {
      "cell_type": "code",
      "source": [
        "Miguel = \" Miguel \"\n",
        "print(Miguel.lstrip())\n",
        "print(Miguel.rstrip())\n",
        "print(Miguel.strip())"
      ],
      "metadata": {
        "colab": {
          "base_uri": "https://localhost:8080/"
        },
        "id": "_etdZ0YhMpob",
        "outputId": "6af6877c-c015-4183-b753-a3f7a4a224a0"
      },
      "execution_count": null,
      "outputs": [
        {
          "output_type": "stream",
          "name": "stdout",
          "text": [
            "Miguel \n",
            " Miguel\n",
            "Miguel\n"
          ]
        }
      ]
    },
    {
      "cell_type": "markdown",
      "source": [
        " 5. Create some commands in Python to check if a number is even or odd and print the result."
      ],
      "metadata": {
        "id": "0MacOGmmkwQC"
      }
    },
    {
      "cell_type": "code",
      "source": [
        "number = 5\n",
        "if number % 2 == 0:\n",
        "  print(\"is an even number\")\n",
        "else: print(\"is an odd number\")\n"
      ],
      "metadata": {
        "colab": {
          "base_uri": "https://localhost:8080/"
        },
        "id": "BEasZYFkNAJq",
        "outputId": "927ee778-3723-4e96-80f2-421cbb0ff2fe"
      },
      "execution_count": null,
      "outputs": [
        {
          "output_type": "stream",
          "name": "stdout",
          "text": [
            "is an odd number\n"
          ]
        }
      ]
    },
    {
      "cell_type": "markdown",
      "source": [
        "6. Create some commands in Python to check if two strings are equal and print the result."
      ],
      "metadata": {
        "id": "5l4uglkdlDH_"
      }
    },
    {
      "cell_type": "code",
      "source": [
        "a = 'hola'\n",
        "b = 'adios'\n",
        "a = a.upper() # Same format\n",
        "b = b.upper()\n",
        "print(a)\n",
        "print(b)\n",
        "\n",
        "if a==b:\n",
        "  print('The strings are the same')\n",
        "else: print('The strings are not equal')"
      ],
      "metadata": {
        "colab": {
          "base_uri": "https://localhost:8080/"
        },
        "id": "G_J2fVkIOP60",
        "outputId": "c4da089a-926b-4968-8e7d-f2d29e8ce9c2"
      },
      "execution_count": 2,
      "outputs": [
        {
          "output_type": "stream",
          "name": "stdout",
          "text": [
            "HOLA\n",
            "ADIOS\n",
            "The strings are not equal\n"
          ]
        }
      ]
    },
    {
      "cell_type": "markdown",
      "metadata": {
        "id": "7gkg_6vxkqEa"
      },
      "source": [
        "7. Imagine you bougth 900 shares of an important Energy company, for a total price 0f 5000 euros 3 years ago. Today you decide to sell them for a price of 5575 euros. Write a program in python that calculates the annual interest rate earned with the benefit of the operation. Define the variables you need and print the information in a clear way."
      ]
    },
    {
      "cell_type": "code",
      "source": [
        "buy_price = 5000\n",
        "years = 3\n",
        "sell_price = 5575\n",
        "benefit = sell_price - buy_price\n",
        "interest_per_year = benefit/years\n",
        "print(interest_per_year/buy_price)"
      ],
      "metadata": {
        "colab": {
          "base_uri": "https://localhost:8080/"
        },
        "id": "9BD1uIeseS7A",
        "outputId": "e397a626-ce9f-4f22-c17c-986ed42d7217"
      },
      "execution_count": 7,
      "outputs": [
        {
          "output_type": "stream",
          "name": "stdout",
          "text": [
            "0.03833333333333333\n"
          ]
        }
      ]
    },
    {
      "cell_type": "markdown",
      "metadata": {
        "id": "eCfyA6BWkqEa"
      },
      "source": [
        "8. The Faculty of Economics of the University of Navarra is carrying out a study about the incoming students in the different degrees. In Data Analytics there are 30 students and the 10% are incoming students; in International Economics and finance there are 20 students and 20% are incoming students; in General Management there are 40 students and the 25% are incoming students. Create a program in python that calculates the average number of incoming students in the Faculty. What is the degree with more incoming students? Use comparison operators to get the answer."
      ]
    },
    {
      "cell_type": "code",
      "source": [
        "data_students = 30\n",
        "data_percent = 0.1\n",
        "finance_students = 20\n",
        "finance_percent = 0.2\n",
        "management_students = 40\n",
        "management_percent = 0.25\n",
        "\n",
        "data_analytics_incoming = (data_students * data_percent)\n",
        "int_econ_finance_incoming = (finance_students * finance_percent)\n",
        "gen_management_incoming = (management_students * management_percent)\n",
        "\n",
        "\n",
        "total_students = data_students + finance_students + management_students\n",
        "total_incoming_students = data_analytics_incoming + int_econ_finance_incoming + gen_management_incoming\n",
        "average_incoming_students = total_incoming_students / total_students\n",
        "\n",
        "data_analytics_incoming>int_econ_finance_incoming\n",
        "data_analytics_incoming\n",
        "\n"
      ],
      "metadata": {
        "colab": {
          "base_uri": "https://localhost:8080/",
          "height": 245
        },
        "id": "c2FzkQpZfpr3",
        "outputId": "34efaf10-dc50-4fd7-ce5d-5f9c45e620c5"
      },
      "execution_count": 8,
      "outputs": [
        {
          "output_type": "error",
          "ename": "TypeError",
          "evalue": "max expected at least 1 argument, got 0",
          "traceback": [
            "\u001b[0;31m---------------------------------------------------------------------------\u001b[0m",
            "\u001b[0;31mTypeError\u001b[0m                                 Traceback (most recent call last)",
            "\u001b[0;32m<ipython-input-8-bda5b6b2950b>\u001b[0m in \u001b[0;36m<cell line: 18>\u001b[0;34m()\u001b[0m\n\u001b[1;32m     16\u001b[0m \u001b[0;34m\u001b[0m\u001b[0m\n\u001b[1;32m     17\u001b[0m \u001b[0;34m\u001b[0m\u001b[0m\n\u001b[0;32m---> 18\u001b[0;31m max_incoming_students_degree = max(\n\u001b[0m\u001b[1;32m     19\u001b[0m \u001b[0;34m\u001b[0m\u001b[0m\n\u001b[1;32m     20\u001b[0m )\n",
            "\u001b[0;31mTypeError\u001b[0m: max expected at least 1 argument, got 0"
          ]
        }
      ]
    },
    {
      "cell_type": "markdown",
      "metadata": {
        "id": "HP8uh59xkqEb"
      },
      "source": [
        "9. Identify regular patterns in the following strings and write expressions that starting with shorter strings and using concatenation and repetition of strings, you produce the strings shown. Use the variables you need."
      ]
    },
    {
      "cell_type": "code",
      "execution_count": null,
      "metadata": {
        "collapsed": true,
        "id": "XNlQVRAskqEc"
      },
      "outputs": [],
      "source": [
        "print('%%%%%./././<-><->')"
      ]
    },
    {
      "cell_type": "code",
      "source": [
        "a=\"%\"\n",
        "b=\"./\"\n",
        "c=\"<->\"\n",
        "print(5*a+3*b+2*c)"
      ],
      "metadata": {
        "colab": {
          "base_uri": "https://localhost:8080/"
        },
        "id": "lYZYmXyyrWxi",
        "outputId": "0af21713-b62f-4bc7-be41-71c6eb7f9368"
      },
      "execution_count": 9,
      "outputs": [
        {
          "output_type": "stream",
          "name": "stdout",
          "text": [
            "%%%%%./././<-><->\n"
          ]
        }
      ]
    },
    {
      "cell_type": "code",
      "execution_count": null,
      "metadata": {
        "id": "W8jgaGapkqEc"
      },
      "outputs": [],
      "source": [
        "print('........*****---*****---........*****---*****---')"
      ]
    },
    {
      "cell_type": "code",
      "source": [
        "a=\".\"\n",
        "b=\"*\"\n",
        "c=\"-\"\n",
        "print((8*a+5*b+3*c+5*b+3*c)*2)"
      ],
      "metadata": {
        "colab": {
          "base_uri": "https://localhost:8080/"
        },
        "id": "-Ld4HD_tr2eH",
        "outputId": "b0f5cbc1-c477-43aa-a1cb-cd60876ab4b0"
      },
      "execution_count": 11,
      "outputs": [
        {
          "output_type": "stream",
          "name": "stdout",
          "text": [
            "........*****---*****---........*****---*****---\n"
          ]
        }
      ]
    },
    {
      "cell_type": "markdown",
      "metadata": {
        "id": "rOlIzL0AkqEc"
      },
      "source": [
        "10. Create two boolean variables, is_raining and is_sunny, and assign them values. Print whether it's a good day based on these variables."
      ]
    },
    {
      "cell_type": "code",
      "source": [
        "is_raining=True\n",
        "is_sunny=False\n",
        "\n",
        "if is_sunny==True and is_raining==False:\n",
        "  print(\"Today is a good day\")\n",
        "else:\n",
        "  print(\"Today is a bad day\")\n",
        "\n",
        "is_raining=False\n",
        "is_sunny=True\n",
        "\n",
        "if is_sunny==True and is_raining==False:\n",
        "  print(\"Today is a good day\")\n",
        "else:\n",
        "  print(\"Today is a bad day\")"
      ],
      "metadata": {
        "colab": {
          "base_uri": "https://localhost:8080/"
        },
        "id": "MEJVQ7pZsS2c",
        "outputId": "ea18a78a-b651-4b63-c581-cd52e3a8fbbb"
      },
      "execution_count": 16,
      "outputs": [
        {
          "output_type": "stream",
          "name": "stdout",
          "text": [
            "Today is a bad day\n",
            "Today is a good day\n"
          ]
        }
      ]
    }
  ],
  "metadata": {
    "kernelspec": {
      "display_name": "Python 3",
      "language": "python",
      "name": "python3"
    },
    "language_info": {
      "codemirror_mode": {
        "name": "ipython",
        "version": 3
      },
      "file_extension": ".py",
      "mimetype": "text/x-python",
      "name": "python",
      "nbconvert_exporter": "python",
      "pygments_lexer": "ipython3",
      "version": "3.6.5"
    },
    "colab": {
      "provenance": [],
      "toc_visible": true
    }
  },
  "nbformat": 4,
  "nbformat_minor": 0
}