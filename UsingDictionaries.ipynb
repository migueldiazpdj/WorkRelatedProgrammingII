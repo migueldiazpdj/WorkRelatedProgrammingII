{
  "nbformat": 4,
  "nbformat_minor": 0,
  "metadata": {
    "colab": {
      "provenance": []
    },
    "kernelspec": {
      "name": "python3",
      "display_name": "Python 3"
    },
    "language_info": {
      "name": "python"
    }
  },
  "cells": [
    {
      "cell_type": "markdown",
      "source": [
        "#Exercises using Dictionaries"
      ],
      "metadata": {
        "id": "yho4XBuGPk6L"
      }
    },
    {
      "cell_type": "markdown",
      "metadata": {
        "id": "JsAFBfr5jKEt"
      },
      "source": [
        "**NOTE: Use the commands that we have seen in class up to now.**"
      ]
    },
    {
      "cell_type": "markdown",
      "metadata": {
        "id": "HhlpRStpjKEt"
      },
      "source": [
        "1. Create a dictionary with car brands as keys and the owner country of each brand. Include at least three key-value pairs in your dictionary."
      ]
    },
    {
      "cell_type": "code",
      "source": [
        "carbrand = {\n",
        "    'Toyota': 'Japan',\n",
        "    'Hyundai': 'S. Korea',\n",
        "    'Volkswagen': 'Germany',\n",
        "    'Ford': 'EE.UU.',\n",
        "}\n",
        "print(carbrand)"
      ],
      "metadata": {
        "id": "2KbDCNNAL6g5",
        "colab": {
          "base_uri": "https://localhost:8080/"
        },
        "outputId": "b2bb8785-336c-470f-d57b-49691c71ec9d"
      },
      "execution_count": 4,
      "outputs": [
        {
          "output_type": "stream",
          "name": "stdout",
          "text": [
            "{'Toyota': 'Japan', 'Hyundai': 'S. Korea', 'Volkswagen': 'Germany', 'Ford': 'EE.UU.'}\n"
          ]
        }
      ]
    },
    {
      "cell_type": "markdown",
      "metadata": {
        "id": "S4yCCJccjKEu"
      },
      "source": [
        "2. Create a dictionary where the keys are the names of swimming style exercises, and the values are the number of laps you did in a session for freestyle, breaststroke, and backstroke:\n",
        "- Use a for loop to print a series of messages like \"I did 10 freestyle laps.\"\n",
        "- Modify one of the values in your dictionary to represent doing more laps of a swimming style.\n",
        "- Add a new key-value pair to your dictionary.\n",
        "- Delete one of the key-value pairs from your dictionary."
      ]
    },
    {
      "cell_type": "code",
      "source": [
        "swimming = {\n",
        "    'libre': 145,\n",
        "    'braza': 220,\n",
        "    'espalda': 34\n",
        "}\n",
        "\n",
        "for style, laps in swimming.items():\n",
        "    print(\"I did\", laps, style, \"laps.\")\n",
        "\n",
        "swimming['libre'] += 5\n",
        "\n",
        "swimming['mariposa'] = 12\n",
        "\n",
        "del swimming['espalda']\n",
        "\n",
        "print(swimming)\n"
      ],
      "metadata": {
        "colab": {
          "base_uri": "https://localhost:8080/"
        },
        "id": "8XMgPoVOMfFd",
        "outputId": "fed28eb7-5136-4479-d233-c69bc4fcefed"
      },
      "execution_count": 5,
      "outputs": [
        {
          "output_type": "stream",
          "name": "stdout",
          "text": [
            "I did 145 libre laps.\n",
            "I did 220 braza laps.\n",
            "I did 34 espalda laps.\n",
            "{'libre': 150, 'braza': 220, 'mariposa': 12}\n"
          ]
        }
      ]
    },
    {
      "cell_type": "markdown",
      "metadata": {
        "id": "U63Sa4p_jKEv"
      },
      "source": [
        "3. List of countries by Human Development Index\n",
        "- Wikipedia has a list of the countries ordered by HDI [list of countries](https://en.wikipedia.org/wiki/List_of_countries_by_Human_Development_Index). Choose 5 countries in the list.\n",
        "    - Create a dictionary with names of the countries as keys, and the HDI as values.\n",
        "    - Print only the names of the countries, using a loop.\n",
        "    - Print only the HDIs of the countries, using a loop.\n",
        "    - Print a series of messages like: \"Switzerland has a HDI of 0.962\"."
      ]
    },
    {
      "cell_type": "code",
      "source": [
        "countries_hdi = {\n",
        "    'Norway': 0.957,\n",
        "    'Switzerland': 0.955,\n",
        "    'Ireland': 0.944,\n",
        "    'Germany': 0.939,\n",
        "    'Australia': 0.938\n",
        "}\n",
        "\n",
        "print(\"\\nNames of countries:\")\n",
        "for country in countries_hdi.keys():\n",
        "    print(country)\n",
        "print(\"\\nHDI of countries:\")\n",
        "for hdi in countries_hdi.values():\n",
        "    print(hdi)\n",
        "for country, hdi in countries_hdi.items():\n",
        "    print(country, \"has a HDI of\", hdi)\n"
      ],
      "metadata": {
        "id": "ZuFH9Q6yTrqH",
        "colab": {
          "base_uri": "https://localhost:8080/"
        },
        "outputId": "f333bdb4-a251-43fe-cb2b-7fd5abaa45e8"
      },
      "execution_count": 6,
      "outputs": [
        {
          "output_type": "stream",
          "name": "stdout",
          "text": [
            "\n",
            "Names of countries:\n",
            "Norway\n",
            "Switzerland\n",
            "Ireland\n",
            "Germany\n",
            "Australia\n",
            "\n",
            "HDI of countries:\n",
            "0.957\n",
            "0.955\n",
            "0.944\n",
            "0.939\n",
            "0.938\n",
            "Norway has a HDI of 0.957\n",
            "Switzerland has a HDI of 0.955\n",
            "Ireland has a HDI of 0.944\n",
            "Germany has a HDI of 0.939\n",
            "Australia has a HDI of 0.938\n"
          ]
        }
      ]
    },
    {
      "cell_type": "markdown",
      "metadata": {
        "id": "pMWn9VKmjKEy"
      },
      "source": [
        "4. Write a program that prompts the user to enter a sentence via keyboard input and generates a dictionary with the count of occurrences of each word in the sentence.\n",
        "For example, if it receives \"What a lovely day it is today\" it should return:\n",
        "\n",
        "- 'what': 1, 'a': 1, 'lovely': 1, 'day': 1, 'it': 1, 'is': 1, 'today': 1"
      ]
    },
    {
      "cell_type": "code",
      "source": [
        "sent = input(\"Enter: \")\n",
        "dic = {}\n",
        "for word in sent.split():\n",
        "    dic[word.lower()] = word_counts.get(word.lower(), 0) + 1\n",
        "\n",
        "print(word_counts)\n"
      ],
      "metadata": {
        "id": "lmZ1TsU8ORMX"
      },
      "execution_count": null,
      "outputs": []
    },
    {
      "cell_type": "markdown",
      "metadata": {
        "id": "z7hj4rAnjKEy"
      },
      "source": [
        "5. Write a program that prompts the user to enter a word via keyboard input and generates a dictionary with the count of occurrences of each character in the word. For example, if it receives \"pamplona\" it should return:\n",
        "For example, if it gets \"peace\", it should turn back:\n",
        "\n",
        "      'p': 1, 'e': 2, 'a': 1, 'c': 1"
      ]
    },
    {
      "cell_type": "code",
      "source": [
        "word = input(\"Enter a word: \")\n",
        "\n",
        "counts = {}\n",
        "for char in word:\n",
        "    counts[char] = counts.get(char, 0) + 1\n",
        "print(counts)"
      ],
      "metadata": {
        "id": "jUSG1NcKTsmm"
      },
      "execution_count": null,
      "outputs": []
    },
    {
      "cell_type": "markdown",
      "metadata": {
        "id": "I0dYijL_jKE0"
      },
      "source": [
        "6. This is an extension of exercise 3.\n",
        "    - Create a new dictionary, where the keys area the names of 10 different countries you choose. This time, however, the values of the dictionary should be a list of the HDI and its ranking (the first country will be the one with the highest HDI): {'Switzerland': [0.962, 1]}\n",
        "    - Print only the names of the countries, using a loop.\n",
        "    - Print the HDIs of the countries, using the values of the dictionary and getting the first number of the list.\n",
        "    - Print only the ranking of each country in the list, looping through the values of the dictionary and getting the second value of the list.\n",
        "    - Print some sentences like: \"Switzerland has a HDI value of 0.962, and it is in position 1\"."
      ]
    },
    {
      "cell_type": "code",
      "source": [
        "countries_rank = {\n",
        "    'Norway': [0.957, 1],\n",
        "    'Switzerland': [0.911, 2],\n",
        "    'Ireland': [0.905, 3],\n",
        "    'Germany': [0.756, 4],\n",
        "    'Australia': [0.688, 5]\n",
        "}\n",
        "\n",
        "print(\"\\nNames:\")\n",
        "for country in countries_rank.keys():\n",
        "    print(country)\n",
        "\n",
        "print(\"\\nHDI:\")\n",
        "for country, position in countries_rank.items():\n",
        "    print(country, \":\", position[0])\n",
        "\n",
        "print(\"\\nRankings:\")\n",
        "for country, position in countries_rank.items():\n",
        "    print(country, \"is in position\", position[1])\n",
        "\n",
        "for country, position in countries_rank.items():\n",
        "    print(country, \"has a HDI value of\", position[0], \"and it is in position\", position[1])"
      ],
      "metadata": {
        "id": "Ai4gnc8jT5nB",
        "colab": {
          "base_uri": "https://localhost:8080/"
        },
        "outputId": "751f7fea-9ab1-4c44-b8f8-b349787903f2"
      },
      "execution_count": 7,
      "outputs": [
        {
          "output_type": "stream",
          "name": "stdout",
          "text": [
            "\n",
            "Names:\n",
            "Norway\n",
            "Switzerland\n",
            "Ireland\n",
            "Germany\n",
            "Australia\n",
            "\n",
            "HDI:\n",
            "Norway : 0.957\n",
            "Switzerland : 0.911\n",
            "Ireland : 0.905\n",
            "Germany : 0.756\n",
            "Australia : 0.688\n",
            "\n",
            "Rankings:\n",
            "Norway is in position 1\n",
            "Switzerland is in position 2\n",
            "Ireland is in position 3\n",
            "Germany is in position 4\n",
            "Australia is in position 5\n",
            "Norway has a HDI value of 0.957 and it is in position 1\n",
            "Switzerland has a HDI value of 0.911 and it is in position 2\n",
            "Ireland has a HDI value of 0.905 and it is in position 3\n",
            "Germany has a HDI value of 0.756 and it is in position 4\n",
            "Australia has a HDI value of 0.688 and it is in position 5\n"
          ]
        }
      ]
    }
  ]
}